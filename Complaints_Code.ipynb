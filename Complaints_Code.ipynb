{
 "cells": [
  {
   "cell_type": "markdown",
   "id": "6ddd90ac-e048-4f76-9571-0b05040cc47a",
   "metadata": {
    "jp-MarkdownHeadingCollapsed": true
   },
   "source": [
    "# imports "
   ]
  },
  {
   "cell_type": "code",
   "execution_count": 2,
   "id": "3368ee94-9c1b-448f-afad-43bf76794261",
   "metadata": {},
   "outputs": [],
   "source": [
    "import pandas as pd\n",
    "import numpy as np\n",
    "import re\n",
    "import matplotlib.pyplot as plt\n",
    "import seaborn as sns\n",
    "from collections import Counter\n",
    "\n",
    "# Sklearn\n",
    "from sklearn.feature_extraction.text import TfidfVectorizer\n",
    "from sklearn.model_selection import train_test_split\n",
    "from sklearn.linear_model import LogisticRegression, PassiveAggressiveClassifier\n",
    "from sklearn.ensemble import RandomForestClassifier, GradientBoostingClassifier\n",
    "from sklearn.svm import SVC\n",
    "from sklearn.preprocessing import LabelEncoder\n",
    "from sklearn.metrics import (\n",
    "    accuracy_score, precision_score, recall_score, f1_score,\n",
    "    confusion_matrix, roc_curve, auc, classification_report\n",
    ")\n",
    "\n",
    "# Imbalanced data handling\n",
    "from imblearn.over_sampling import SMOTE\n",
    "\n",
    "# ML Libraries\n",
    "import xgboost as xgb\n",
    "import lightgbm as lgb\n",
    "\n",
    "# NLP\n",
    "import nltk\n",
    "from nltk.corpus import stopwords\n",
    "from nltk.stem import WordNetLemmatizer\n",
    "\n",
    "# Utilities\n",
    "import joblib\n",
    "# Keras\n",
    "from tensorflow.keras.models import Sequential\n",
    "from tensorflow.keras.layers import Embedding, LSTM, Dense\n",
    "from tensorflow.keras.preprocessing.text import Tokenizer\n",
    "from tensorflow.keras.preprocessing.sequence import pad_sequences"
   ]
  },
  {
   "cell_type": "markdown",
   "id": "26dd9036-b590-4d8e-997d-43e4ff16a617",
   "metadata": {
    "jp-MarkdownHeadingCollapsed": true
   },
   "source": [
    "# Data Preparation"
   ]
  },
  {
   "cell_type": "markdown",
   "id": "5e2066c3-b2b2-4129-8806-fd48a8b06e5f",
   "metadata": {
    "jp-MarkdownHeadingCollapsed": true
   },
   "source": [
    "## 1. Load the data"
   ]
  },
  {
   "cell_type": "code",
   "execution_count": 3,
   "id": "41f3cd44-37db-4c79-821e-d9fb2a4a0618",
   "metadata": {},
   "outputs": [],
   "source": [
    "df = pd.read_csv(\"Complaints - Approved Version.csv\")"
   ]
  },
  {
   "cell_type": "markdown",
   "id": "1f3a623d-0cf1-47ae-9973-910adf6b3ef7",
   "metadata": {
    "jp-MarkdownHeadingCollapsed": true
   },
   "source": [
    "## 2. Display data summary"
   ]
  },
  {
   "cell_type": "code",
   "execution_count": 4,
   "id": "ccedc3b6-b9a6-4349-888d-e175d7139f5b",
   "metadata": {},
   "outputs": [
    {
     "data": {
      "text/plain": [
       "<bound method NDFrame.head of                   CASE_ID      OFFER_NAME CUSTOMER_TYPE    CUSTOMER_GROUP  \\\n",
       "0      CAS-1060890-L3D6Q6       FTTH Home           CBU         FTTH Home   \n",
       "1       CAS-388567-W4B9Q3             NaN           CBU               NaN   \n",
       "2      CAS-1494939-L9F0X7  Bitstream Home           CBU  Wanadoo-ADSL-Res   \n",
       "3      CAS-1059985-K3Y9F7       FTTH Home           CBU         FTTH Home   \n",
       "4      CAS-1239942-Y1S2F5       FTTH Home           CBU         FTTH Home   \n",
       "...                   ...             ...           ...               ...   \n",
       "10410   CAS-549162-Y2F4X6  OnLine Prepaid           CBU           Prepaid   \n",
       "10411  CAS-1094578-B7J7Z0       FTTH Home           CBU         FTTH Home   \n",
       "10412   CAS-470088-Q3Y2V7  FTTB Corporate           EBU    FTTB Corporate   \n",
       "10413  CAS-1249800-V2H6C7  Bitstream Home           CBU  Wanadoo-ADSL-Res   \n",
       "10414   CAS-805076-V0F0N9  Bitstream Home           CBU  Wanadoo-ADSL-Res   \n",
       "\n",
       "      CURRENT_STATUS ESCALATION_FLAG ESCALATED_GROUP         OPEN_DATE  \\\n",
       "0           Resolved             Yes          F&I_BO  19.06.2022 06:07   \n",
       "1           Resolved             Yes       Mobile_BO  04.04.2022 14:11   \n",
       "2           Resolved              No             NaN  03.08.2022 03:20   \n",
       "3           Resolved              No             NaN  18.06.2022 20:38   \n",
       "4           Resolved              No             NaN  06.07.2022 01:22   \n",
       "...              ...             ...             ...               ...   \n",
       "10410       Resolved              No             NaN  23.04.2022 09:31   \n",
       "10411       Resolved              No             NaN  21.06.2022 19:40   \n",
       "10412       Resolved              No             NaN  14.04.2022 14:36   \n",
       "10413       Resolved              No             NaN  07.07.2022 05:54   \n",
       "10414       Resolved              No             NaN  22.05.2022 20:31   \n",
       "\n",
       "             CLOSE_DATE  AGE_BRACKET      ACTUAL_COMPLAINT CALLBACK_MECHANISM  \\\n",
       "0      21.06.2022 13:41          2.0      Actual Complaint              Phone   \n",
       "1      05.04.2022 12:13          1.0  Not Actual Complaint              Phone   \n",
       "2      03.08.2022 03:20          1.0       User Not Filled                NaN   \n",
       "3      18.06.2022 20:38          1.0       User Not Filled                NaN   \n",
       "4      06.07.2022 01:22          1.0       User Not Filled                NaN   \n",
       "...                 ...          ...                   ...                ...   \n",
       "10410  23.04.2022 09:31          1.0       User Not Filled                NaN   \n",
       "10411  21.06.2022 19:40          1.0       User Not Filled                NaN   \n",
       "10412  14.04.2022 14:36          1.0       User Not Filled                NaN   \n",
       "10413  07.07.2022 05:54          1.0       User Not Filled                NaN   \n",
       "10414  22.05.2022 20:31          1.0       User Not Filled                NaN   \n",
       "\n",
       "      RESOLUTION RESOLUTION_DESCRIPTION CASE_DESC COMPLAINT_TYPE   PRODUCT  \\\n",
       "0            NaN                    NaN       NaN      Technical  Internet   \n",
       "1            NaN                    NaN       NaN     Commercial    Mobile   \n",
       "2            NaN                    NaN       NaN      Technical  Internet   \n",
       "3            NaN                    NaN       NaN      Technical  Internet   \n",
       "4            NaN                    NaN       NaN      Technical  Internet   \n",
       "...          ...                    ...       ...            ...       ...   \n",
       "10410        NaN                    NaN       NaN     Commercial    Mobile   \n",
       "10411        NaN                    NaN       NaN      Technical  Internet   \n",
       "10412        NaN                    NaN       NaN      Technical  Internet   \n",
       "10413        NaN                    NaN       NaN      Technical  Internet   \n",
       "10414        NaN                    NaN       NaN      Technical  Internet   \n",
       "\n",
       "                      CASE  \n",
       "0      Technical complaint  \n",
       "1         Commercial claim  \n",
       "2      Technical complaint  \n",
       "3      Technical complaint  \n",
       "4      Technical complaint  \n",
       "...                    ...  \n",
       "10410     Commercial claim  \n",
       "10411  Technical complaint  \n",
       "10412  Technical complaint  \n",
       "10413  Technical complaint  \n",
       "10414  Technical complaint  \n",
       "\n",
       "[10415 rows x 18 columns]>"
      ]
     },
     "execution_count": 4,
     "metadata": {},
     "output_type": "execute_result"
    }
   ],
   "source": [
    "df.head"
   ]
  },
  {
   "cell_type": "code",
   "execution_count": 5,
   "id": "97289fc0-0461-4d91-8273-669121d4febe",
   "metadata": {},
   "outputs": [
    {
     "name": "stdout",
     "output_type": "stream",
     "text": [
      "<class 'pandas.core.frame.DataFrame'>\n",
      "RangeIndex: 10415 entries, 0 to 10414\n",
      "Data columns (total 18 columns):\n",
      " #   Column                  Non-Null Count  Dtype  \n",
      "---  ------                  --------------  -----  \n",
      " 0   CASE_ID                 10415 non-null  object \n",
      " 1   OFFER_NAME              9122 non-null   object \n",
      " 2   CUSTOMER_TYPE           10415 non-null  object \n",
      " 3   CUSTOMER_GROUP          9067 non-null   object \n",
      " 4   CURRENT_STATUS          10415 non-null  object \n",
      " 5   ESCALATION_FLAG         10415 non-null  object \n",
      " 6   ESCALATED_GROUP         3360 non-null   object \n",
      " 7   OPEN_DATE               10415 non-null  object \n",
      " 8   CLOSE_DATE              10296 non-null  object \n",
      " 9   AGE_BRACKET             10296 non-null  float64\n",
      " 10  ACTUAL_COMPLAINT        10415 non-null  object \n",
      " 11  CALLBACK_MECHANISM      3138 non-null   object \n",
      " 12  RESOLUTION              79 non-null     object \n",
      " 13  RESOLUTION_DESCRIPTION  39 non-null     object \n",
      " 14  CASE_DESC               1172 non-null   object \n",
      " 15  COMPLAINT_TYPE          10415 non-null  object \n",
      " 16  PRODUCT                 10415 non-null  object \n",
      " 17  CASE                    10415 non-null  object \n",
      "dtypes: float64(1), object(17)\n",
      "memory usage: 1.4+ MB\n"
     ]
    }
   ],
   "source": [
    "df.info()"
   ]
  },
  {
   "cell_type": "code",
   "execution_count": 6,
   "id": "5ae92a32-3976-4119-8011-6358a7b6e233",
   "metadata": {},
   "outputs": [
    {
     "data": {
      "text/html": [
       "<div>\n",
       "<style scoped>\n",
       "    .dataframe tbody tr th:only-of-type {\n",
       "        vertical-align: middle;\n",
       "    }\n",
       "\n",
       "    .dataframe tbody tr th {\n",
       "        vertical-align: top;\n",
       "    }\n",
       "\n",
       "    .dataframe thead th {\n",
       "        text-align: right;\n",
       "    }\n",
       "</style>\n",
       "<table border=\"1\" class=\"dataframe\">\n",
       "  <thead>\n",
       "    <tr style=\"text-align: right;\">\n",
       "      <th></th>\n",
       "      <th>AGE_BRACKET</th>\n",
       "    </tr>\n",
       "  </thead>\n",
       "  <tbody>\n",
       "    <tr>\n",
       "      <th>count</th>\n",
       "      <td>10296.000000</td>\n",
       "    </tr>\n",
       "    <tr>\n",
       "      <th>mean</th>\n",
       "      <td>1.503302</td>\n",
       "    </tr>\n",
       "    <tr>\n",
       "      <th>std</th>\n",
       "      <td>2.978144</td>\n",
       "    </tr>\n",
       "    <tr>\n",
       "      <th>min</th>\n",
       "      <td>1.000000</td>\n",
       "    </tr>\n",
       "    <tr>\n",
       "      <th>25%</th>\n",
       "      <td>1.000000</td>\n",
       "    </tr>\n",
       "    <tr>\n",
       "      <th>50%</th>\n",
       "      <td>1.000000</td>\n",
       "    </tr>\n",
       "    <tr>\n",
       "      <th>75%</th>\n",
       "      <td>1.000000</td>\n",
       "    </tr>\n",
       "    <tr>\n",
       "      <th>max</th>\n",
       "      <td>116.000000</td>\n",
       "    </tr>\n",
       "  </tbody>\n",
       "</table>\n",
       "</div>"
      ],
      "text/plain": [
       "        AGE_BRACKET\n",
       "count  10296.000000\n",
       "mean       1.503302\n",
       "std        2.978144\n",
       "min        1.000000\n",
       "25%        1.000000\n",
       "50%        1.000000\n",
       "75%        1.000000\n",
       "max      116.000000"
      ]
     },
     "execution_count": 6,
     "metadata": {},
     "output_type": "execute_result"
    }
   ],
   "source": [
    "df.describe()"
   ]
  },
  {
   "cell_type": "markdown",
   "id": "b1f56e72-60a4-4481-ae9e-16c8db9c2d2b",
   "metadata": {
    "jp-MarkdownHeadingCollapsed": true
   },
   "source": [
    "## 3. Select target column"
   ]
  },
  {
   "cell_type": "code",
   "execution_count": 7,
   "id": "7455ecca-9ed4-4027-94bf-e6db3434402b",
   "metadata": {},
   "outputs": [],
   "source": [
    "target_col = 'COMPLAINT_TYPE'\n"
   ]
  },
  {
   "cell_type": "markdown",
   "id": "235954e3-a5cf-4fa5-a733-9ae561acf025",
   "metadata": {},
   "source": [
    "## 4. Handle missing values"
   ]
  },
  {
   "cell_type": "code",
   "execution_count": 8,
   "id": "b7ad6203-cde5-477e-963e-6a06521b2b8d",
   "metadata": {},
   "outputs": [],
   "source": [
    "# Fill missing text values with empty string \"\"\n",
    "text_cols = ['CASE_DESC', 'RESOLUTION_DESCRIPTION', 'RESOLUTION']\n",
    "for col in text_cols:\n",
    "    if col in df.columns:\n",
    "        df[col] = df[col].fillna('')\n",
    "\n",
    "# Fill missing numerical values with median\n",
    "num_cols = df.select_dtypes(include=np.number).columns.tolist()\n",
    "for col in num_cols:\n",
    "    df[col] = df[col].fillna(df[col].median())"
   ]
  },
  {
   "cell_type": "markdown",
   "id": "fa9cd5cf-fdfe-45a6-81c0-1077e8cac48c",
   "metadata": {},
   "source": [
    "## 5. Create unified text column by combining text columns"
   ]
  },
  {
   "cell_type": "code",
   "execution_count": 9,
   "id": "52d21ec4-dd4c-4787-8030-2b368592a01f",
   "metadata": {},
   "outputs": [],
   "source": [
    "df['combined_text'] = df[text_cols].agg(' '.join, axis=1)"
   ]
  },
  {
   "cell_type": "markdown",
   "id": "e48d5b1c-5297-426a-9ee8-ccd292bb6d10",
   "metadata": {},
   "source": [
    "## 6. Clean the text"
   ]
  },
  {
   "cell_type": "code",
   "execution_count": 10,
   "id": "2c9ae779-1bdf-458b-bf71-a033ac2df15d",
   "metadata": {},
   "outputs": [
    {
     "name": "stdout",
     "output_type": "stream",
     "text": [
      "  combined_text cleaned_text\n",
      "0                           \n",
      "1                           \n",
      "2                           \n",
      "3                           \n",
      "4                           \n"
     ]
    }
   ],
   "source": [
    "def clean_text(text):\n",
    "    text = text.lower()  # Convert to lowercase\n",
    "    text = re.sub(r'[^a-zA-Z\\s]', ' ', text)  # Remove non-alphabetic characters (keep only a-z and spaces)\n",
    "    text = re.sub(r'\\s+', ' ', text)  # Remove extra spaces, keep single spaces\n",
    "    text = text.strip()  # Remove leading/trailing spaces\n",
    "    return text\n",
    "\n",
    "df['cleaned_text'] = df['combined_text'].apply(clean_text)\n",
    "\n",
    "# Display the first few rows of combined and cleaned text columns\n",
    "print(df[['combined_text', 'cleaned_text']].head())"
   ]
  },
  {
   "cell_type": "markdown",
   "id": "e56d9621-2ae4-4770-bbf8-e59e72e1500f",
   "metadata": {
    "jp-MarkdownHeadingCollapsed": true
   },
   "source": [
    "# Modeling"
   ]
  },
  {
   "cell_type": "markdown",
   "id": "e8eda9a9-9ab3-425a-a5a7-527747a83ec4",
   "metadata": {},
   "source": [
    "## 1. Convert text to numerical features using TfidfVectorizer"
   ]
  },
  {
   "cell_type": "code",
   "execution_count": 12,
   "id": "bd798330-8159-404b-91a4-6bbe2ac2acd4",
   "metadata": {},
   "outputs": [],
   "source": [
    "vectorizer = TfidfVectorizer(max_features=10000)  # limit features to 10k (can adjust)\n",
    "X = vectorizer.fit_transform(df['cleaned_text'])"
   ]
  },
  {
   "cell_type": "markdown",
   "id": "4efeea27-a8d7-4ef5-818e-064c960d7462",
   "metadata": {},
   "source": [
    "## 2. Define target variable"
   ]
  },
  {
   "cell_type": "code",
   "execution_count": 13,
   "id": "41c8ca43-a7be-4589-8b2b-c057e14f19e9",
   "metadata": {},
   "outputs": [],
   "source": [
    "y = df[target_col]"
   ]
  },
  {
   "cell_type": "markdown",
   "id": "8d879d2d-6bc8-466c-bff2-e318ed6d3cc5",
   "metadata": {},
   "source": [
    "## 3. Split data into train and test sets (80% train, 20% test), stratify by target"
   ]
  },
  {
   "cell_type": "code",
   "execution_count": 14,
   "id": "b94ba6f1-1a28-49e6-8948-02feb06a36cb",
   "metadata": {},
   "outputs": [],
   "source": [
    "X_train, X_test, y_train, y_test = train_test_split( X, y, test_size=0.2, stratify=y, random_state=42)"
   ]
  },
  {
   "cell_type": "markdown",
   "id": "778a3e76-4e24-4700-aaa9-c795fe13e8af",
   "metadata": {},
   "source": [
    "## 4. Define models"
   ]
  },
  {
   "cell_type": "code",
   "execution_count": 15,
   "id": "08f05331-4bbe-44cd-a939-3b273e9bd453",
   "metadata": {},
   "outputs": [],
   "source": [
    "models = {\n",
    "    'Logistic Regression': LogisticRegression(max_iter=1000),\n",
    "    'Random Forest': RandomForestClassifier(n_estimators=100),\n",
    "    'Gradient Boosting': GradientBoostingClassifier(n_estimators=100),\n",
    "    'Passive Aggressive': PassiveAggressiveClassifier(max_iter=1000),\n",
    "    'SVM': SVC(kernel='linear'),\n",
    "}"
   ]
  },
  {
   "cell_type": "markdown",
   "id": "33eefdff-899a-42e7-8731-6fd31c29c103",
   "metadata": {
    "jp-MarkdownHeadingCollapsed": true
   },
   "source": [
    "## 5. Train, predict, and store results\n"
   ]
  },
  {
   "cell_type": "code",
   "execution_count": 16,
   "id": "264d390d-dd68-4f5f-86c6-9c6c1843b50e",
   "metadata": {},
   "outputs": [
    {
     "name": "stdout",
     "output_type": "stream",
     "text": [
      "Training Logistic Regression...\n",
      "Logistic Regression Accuracy: 0.7633\n",
      "              precision    recall  f1-score   support\n",
      "\n",
      "  Commercial       0.00      0.00      0.00       493\n",
      "   Technical       0.76      1.00      0.87      1590\n",
      "\n",
      "    accuracy                           0.76      2083\n",
      "   macro avg       0.38      0.50      0.43      2083\n",
      "weighted avg       0.58      0.76      0.66      2083\n",
      "\n",
      "Training Random Forest...\n"
     ]
    },
    {
     "name": "stderr",
     "output_type": "stream",
     "text": [
      "C:\\Users\\yhamdan\\AppData\\Local\\anaconda3\\Lib\\site-packages\\sklearn\\metrics\\_classification.py:1565: UndefinedMetricWarning: Precision is ill-defined and being set to 0.0 in labels with no predicted samples. Use `zero_division` parameter to control this behavior.\n",
      "  _warn_prf(average, modifier, f\"{metric.capitalize()} is\", len(result))\n",
      "C:\\Users\\yhamdan\\AppData\\Local\\anaconda3\\Lib\\site-packages\\sklearn\\metrics\\_classification.py:1565: UndefinedMetricWarning: Precision is ill-defined and being set to 0.0 in labels with no predicted samples. Use `zero_division` parameter to control this behavior.\n",
      "  _warn_prf(average, modifier, f\"{metric.capitalize()} is\", len(result))\n",
      "C:\\Users\\yhamdan\\AppData\\Local\\anaconda3\\Lib\\site-packages\\sklearn\\metrics\\_classification.py:1565: UndefinedMetricWarning: Precision is ill-defined and being set to 0.0 in labels with no predicted samples. Use `zero_division` parameter to control this behavior.\n",
      "  _warn_prf(average, modifier, f\"{metric.capitalize()} is\", len(result))\n"
     ]
    },
    {
     "name": "stdout",
     "output_type": "stream",
     "text": [
      "Random Forest Accuracy: 0.7633\n",
      "              precision    recall  f1-score   support\n",
      "\n",
      "  Commercial       0.00      0.00      0.00       493\n",
      "   Technical       0.76      1.00      0.87      1590\n",
      "\n",
      "    accuracy                           0.76      2083\n",
      "   macro avg       0.38      0.50      0.43      2083\n",
      "weighted avg       0.58      0.76      0.66      2083\n",
      "\n",
      "Training Gradient Boosting...\n",
      "Gradient Boosting Accuracy: 0.7633\n",
      "              precision    recall  f1-score   support\n",
      "\n",
      "  Commercial       0.00      0.00      0.00       493\n",
      "   Technical       0.76      1.00      0.87      1590\n",
      "\n",
      "    accuracy                           0.76      2083\n",
      "   macro avg       0.38      0.50      0.43      2083\n",
      "weighted avg       0.58      0.76      0.66      2083\n",
      "\n",
      "Training Passive Aggressive...\n",
      "Passive Aggressive Accuracy: 0.7633\n",
      "              precision    recall  f1-score   support\n",
      "\n",
      "  Commercial       0.00      0.00      0.00       493\n",
      "   Technical       0.76      1.00      0.87      1590\n",
      "\n",
      "    accuracy                           0.76      2083\n",
      "   macro avg       0.38      0.50      0.43      2083\n",
      "weighted avg       0.58      0.76      0.66      2083\n",
      "\n",
      "Training SVM...\n"
     ]
    },
    {
     "name": "stderr",
     "output_type": "stream",
     "text": [
      "C:\\Users\\yhamdan\\AppData\\Local\\anaconda3\\Lib\\site-packages\\sklearn\\metrics\\_classification.py:1565: UndefinedMetricWarning: Precision is ill-defined and being set to 0.0 in labels with no predicted samples. Use `zero_division` parameter to control this behavior.\n",
      "  _warn_prf(average, modifier, f\"{metric.capitalize()} is\", len(result))\n",
      "C:\\Users\\yhamdan\\AppData\\Local\\anaconda3\\Lib\\site-packages\\sklearn\\metrics\\_classification.py:1565: UndefinedMetricWarning: Precision is ill-defined and being set to 0.0 in labels with no predicted samples. Use `zero_division` parameter to control this behavior.\n",
      "  _warn_prf(average, modifier, f\"{metric.capitalize()} is\", len(result))\n",
      "C:\\Users\\yhamdan\\AppData\\Local\\anaconda3\\Lib\\site-packages\\sklearn\\metrics\\_classification.py:1565: UndefinedMetricWarning: Precision is ill-defined and being set to 0.0 in labels with no predicted samples. Use `zero_division` parameter to control this behavior.\n",
      "  _warn_prf(average, modifier, f\"{metric.capitalize()} is\", len(result))\n",
      "C:\\Users\\yhamdan\\AppData\\Local\\anaconda3\\Lib\\site-packages\\sklearn\\metrics\\_classification.py:1565: UndefinedMetricWarning: Precision is ill-defined and being set to 0.0 in labels with no predicted samples. Use `zero_division` parameter to control this behavior.\n",
      "  _warn_prf(average, modifier, f\"{metric.capitalize()} is\", len(result))\n",
      "C:\\Users\\yhamdan\\AppData\\Local\\anaconda3\\Lib\\site-packages\\sklearn\\metrics\\_classification.py:1565: UndefinedMetricWarning: Precision is ill-defined and being set to 0.0 in labels with no predicted samples. Use `zero_division` parameter to control this behavior.\n",
      "  _warn_prf(average, modifier, f\"{metric.capitalize()} is\", len(result))\n",
      "C:\\Users\\yhamdan\\AppData\\Local\\anaconda3\\Lib\\site-packages\\sklearn\\metrics\\_classification.py:1565: UndefinedMetricWarning: Precision is ill-defined and being set to 0.0 in labels with no predicted samples. Use `zero_division` parameter to control this behavior.\n",
      "  _warn_prf(average, modifier, f\"{metric.capitalize()} is\", len(result))\n",
      "C:\\Users\\yhamdan\\AppData\\Local\\anaconda3\\Lib\\site-packages\\sklearn\\metrics\\_classification.py:1565: UndefinedMetricWarning: Precision is ill-defined and being set to 0.0 in labels with no predicted samples. Use `zero_division` parameter to control this behavior.\n",
      "  _warn_prf(average, modifier, f\"{metric.capitalize()} is\", len(result))\n",
      "C:\\Users\\yhamdan\\AppData\\Local\\anaconda3\\Lib\\site-packages\\sklearn\\metrics\\_classification.py:1565: UndefinedMetricWarning: Precision is ill-defined and being set to 0.0 in labels with no predicted samples. Use `zero_division` parameter to control this behavior.\n",
      "  _warn_prf(average, modifier, f\"{metric.capitalize()} is\", len(result))\n",
      "C:\\Users\\yhamdan\\AppData\\Local\\anaconda3\\Lib\\site-packages\\sklearn\\metrics\\_classification.py:1565: UndefinedMetricWarning: Precision is ill-defined and being set to 0.0 in labels with no predicted samples. Use `zero_division` parameter to control this behavior.\n",
      "  _warn_prf(average, modifier, f\"{metric.capitalize()} is\", len(result))\n"
     ]
    },
    {
     "name": "stdout",
     "output_type": "stream",
     "text": [
      "SVM Accuracy: 0.7633\n",
      "              precision    recall  f1-score   support\n",
      "\n",
      "  Commercial       0.00      0.00      0.00       493\n",
      "   Technical       0.76      1.00      0.87      1590\n",
      "\n",
      "    accuracy                           0.76      2083\n",
      "   macro avg       0.38      0.50      0.43      2083\n",
      "weighted avg       0.58      0.76      0.66      2083\n",
      "\n",
      "                 Model  Accuracy\n",
      "0  Logistic Regression  0.763322\n",
      "1        Random Forest  0.763322\n",
      "2    Gradient Boosting  0.763322\n",
      "3   Passive Aggressive  0.763322\n",
      "4                  SVM  0.763322\n"
     ]
    },
    {
     "name": "stderr",
     "output_type": "stream",
     "text": [
      "C:\\Users\\yhamdan\\AppData\\Local\\anaconda3\\Lib\\site-packages\\sklearn\\metrics\\_classification.py:1565: UndefinedMetricWarning: Precision is ill-defined and being set to 0.0 in labels with no predicted samples. Use `zero_division` parameter to control this behavior.\n",
      "  _warn_prf(average, modifier, f\"{metric.capitalize()} is\", len(result))\n",
      "C:\\Users\\yhamdan\\AppData\\Local\\anaconda3\\Lib\\site-packages\\sklearn\\metrics\\_classification.py:1565: UndefinedMetricWarning: Precision is ill-defined and being set to 0.0 in labels with no predicted samples. Use `zero_division` parameter to control this behavior.\n",
      "  _warn_prf(average, modifier, f\"{metric.capitalize()} is\", len(result))\n",
      "C:\\Users\\yhamdan\\AppData\\Local\\anaconda3\\Lib\\site-packages\\sklearn\\metrics\\_classification.py:1565: UndefinedMetricWarning: Precision is ill-defined and being set to 0.0 in labels with no predicted samples. Use `zero_division` parameter to control this behavior.\n",
      "  _warn_prf(average, modifier, f\"{metric.capitalize()} is\", len(result))\n"
     ]
    }
   ],
   "source": [
    "results = []\n",
    "\n",
    "for name, model in models.items():\n",
    "    print(f'Training {name}...')\n",
    "    model.fit(X_train, y_train)\n",
    "    y_pred = model.predict(X_test)\n",
    "    \n",
    "    acc = accuracy_score(y_test, y_pred)\n",
    "    print(f'{name} Accuracy: {acc:.4f}')\n",
    "    print(classification_report(y_test, y_pred))\n",
    "    \n",
    "    results.append({\n",
    "        'Model': name,\n",
    "        'Accuracy': acc,\n",
    "    })\n",
    "\n",
    "# Convert results to DataFrame for better visualization\n",
    "results_df = pd.DataFrame(results)\n",
    "print(results_df)"
   ]
  },
  {
   "cell_type": "code",
   "execution_count": 17,
   "id": "cc75f8d7-b7b4-4fe7-a601-045621650bc5",
   "metadata": {},
   "outputs": [
    {
     "name": "stdout",
     "output_type": "stream",
     "text": [
      "              precision    recall  f1-score   support\n",
      "\n",
      "  Commercial       0.00      0.00      0.00       493\n",
      "   Technical       0.76      1.00      0.87      1590\n",
      "\n",
      "    accuracy                           0.76      2083\n",
      "   macro avg       0.38      0.50      0.43      2083\n",
      "weighted avg       0.58      0.76      0.66      2083\n",
      "\n"
     ]
    }
   ],
   "source": [
    "print(classification_report(y_test, y_pred, zero_division=0))\n"
   ]
  },
  {
   "cell_type": "markdown",
   "id": "483a92de-1543-4545-8ee0-010ad08770f3",
   "metadata": {},
   "source": [
    "## SMOTE\n",
    "I used **SMOTE (Synthetic Minority Over-sampling Technique)** instead of the basic training loop on the original data because our dataset suffers from **class imbalance**. Some classes have much fewer samples than others, which can cause models to be biased towards the majority classes and perform poorly on minority classes.\n",
    "\n",
    "The original training approach trains models on the imbalanced data as is, which often leads to low recall or precision for underrepresented classes.\n",
    "\n",
    "SMOTE helps by **creating synthetic samples for the minority classes**, effectively balancing the training data without simply duplicating existing samples. This improves the model's ability to learn patterns for all classes more fairly.\n",
    "\n",
    "By applying SMOTE before training, the models are exposed to a more balanced dataset, which usually results in better performance on minority classes and reduces warnings about undefined metrics.\n",
    "\n"
   ]
  },
  {
   "cell_type": "code",
   "execution_count": 19,
   "id": "0c991972-64c6-4e12-92c2-65b9ec41a6a1",
   "metadata": {},
   "outputs": [
    {
     "name": "stdout",
     "output_type": "stream",
     "text": [
      "Training Logistic Regression...\n",
      "Logistic Regression Accuracy: 0.6980\n",
      "              precision    recall  f1-score   support\n",
      "\n",
      "  Commercial       0.23      0.11      0.15       493\n",
      "   Technical       0.76      0.88      0.82      1590\n",
      "\n",
      "    accuracy                           0.70      2083\n",
      "   macro avg       0.49      0.50      0.48      2083\n",
      "weighted avg       0.63      0.70      0.66      2083\n",
      "\n",
      "Training Random Forest...\n",
      "Random Forest Accuracy: 0.6980\n",
      "              precision    recall  f1-score   support\n",
      "\n",
      "  Commercial       0.23      0.11      0.15       493\n",
      "   Technical       0.76      0.88      0.82      1590\n",
      "\n",
      "    accuracy                           0.70      2083\n",
      "   macro avg       0.49      0.50      0.48      2083\n",
      "weighted avg       0.63      0.70      0.66      2083\n",
      "\n",
      "Training Gradient Boosting...\n",
      "Gradient Boosting Accuracy: 0.6980\n",
      "              precision    recall  f1-score   support\n",
      "\n",
      "  Commercial       0.23      0.11      0.15       493\n",
      "   Technical       0.76      0.88      0.82      1590\n",
      "\n",
      "    accuracy                           0.70      2083\n",
      "   macro avg       0.49      0.50      0.48      2083\n",
      "weighted avg       0.63      0.70      0.66      2083\n",
      "\n",
      "Training Passive Aggressive...\n",
      "Passive Aggressive Accuracy: 0.2372\n",
      "              precision    recall  f1-score   support\n",
      "\n",
      "  Commercial       0.24      1.00      0.38       493\n",
      "   Technical       1.00      0.00      0.00      1590\n",
      "\n",
      "    accuracy                           0.24      2083\n",
      "   macro avg       0.62      0.50      0.19      2083\n",
      "weighted avg       0.82      0.24      0.09      2083\n",
      "\n",
      "Training SVM...\n",
      "SVM Accuracy: 0.6980\n",
      "              precision    recall  f1-score   support\n",
      "\n",
      "  Commercial       0.23      0.11      0.15       493\n",
      "   Technical       0.76      0.88      0.82      1590\n",
      "\n",
      "    accuracy                           0.70      2083\n",
      "   macro avg       0.49      0.50      0.48      2083\n",
      "weighted avg       0.63      0.70      0.66      2083\n",
      "\n"
     ]
    }
   ],
   "source": [
    "# After splitting:\n",
    "smote = SMOTE(random_state=42)\n",
    "X_train_res, y_train_res = smote.fit_resample(X_train, y_train)\n",
    "\n",
    "# Then train models on X_train_res, y_train_res instead of X_train, y_train\n",
    "for name, model in models.items():\n",
    "    print(f'Training {name}...')\n",
    "    model.fit(X_train_res, y_train_res)\n",
    "    y_pred = model.predict(X_test)\n",
    "    \n",
    "    acc = accuracy_score(y_test, y_pred)\n",
    "    print(f'{name} Accuracy: {acc:.4f}')\n",
    "    print(classification_report(y_test, y_pred, zero_division=0))\n",
    "    \n",
    "    results.append({\n",
    "        'Model': name,\n",
    "        'Accuracy': acc,\n",
    "    })\n"
   ]
  },
  {
   "cell_type": "markdown",
   "id": "a3664f24-a9ba-4f1f-910f-36c9d49d4d85",
   "metadata": {
    "jp-MarkdownHeadingCollapsed": true
   },
   "source": [
    "# Evaluation"
   ]
  },
  {
   "cell_type": "code",
   "execution_count": 21,
   "id": "54b350d0-18e2-4d54-9db4-715181034f80",
   "metadata": {},
   "outputs": [
    {
     "name": "stdout",
     "output_type": "stream",
     "text": [
      "Evaluating Logistic Regression...\n",
      "Accuracy: 0.6980\n",
      "Precision: 0.6350\n",
      "Recall: 0.6980\n",
      "F1 Score: 0.6589\n",
      "              precision    recall  f1-score   support\n",
      "\n",
      "  Commercial       0.23      0.11      0.15       493\n",
      "   Technical       0.76      0.88      0.82      1590\n",
      "\n",
      "    accuracy                           0.70      2083\n",
      "   macro avg       0.49      0.50      0.48      2083\n",
      "weighted avg       0.63      0.70      0.66      2083\n",
      "\n"
     ]
    },
    {
     "data": {
      "image/png": "[encoded data removed]",
      "text/plain": [
       "<Figure size 800x600 with 2 Axes>"
      ]
     },
     "metadata": {},
     "output_type": "display_data"
    },
    {
     "name": "stdout",
     "output_type": "stream",
     "text": [
      "Evaluating Random Forest...\n",
      "Accuracy: 0.6980\n",
      "Precision: 0.6350\n",
      "Recall: 0.6980\n",
      "F1 Score: 0.6589\n",
      "              precision    recall  f1-score   support\n",
      "\n",
      "  Commercial       0.23      0.11      0.15       493\n",
      "   Technical       0.76      0.88      0.82      1590\n",
      "\n",
      "    accuracy                           0.70      2083\n",
      "   macro avg       0.49      0.50      0.48      2083\n",
      "weighted avg       0.63      0.70      0.66      2083\n",
      "\n"
     ]
    },
    {
     "data": {
      "image/png": "[encoded data removed]",
      "text/plain": [
       "<Figure size 800x600 with 2 Axes>"
      ]
     },
     "metadata": {},
     "output_type": "display_data"
    },
    {
     "name": "stdout",
     "output_type": "stream",
     "text": [
      "Evaluating Gradient Boosting...\n",
      "Accuracy: 0.6980\n",
      "Precision: 0.6350\n",
      "Recall: 0.6980\n",
      "F1 Score: 0.6589\n",
      "              precision    recall  f1-score   support\n",
      "\n",
      "  Commercial       0.23      0.11      0.15       493\n",
      "   Technical       0.76      0.88      0.82      1590\n",
      "\n",
      "    accuracy                           0.70      2083\n",
      "   macro avg       0.49      0.50      0.48      2083\n",
      "weighted avg       0.63      0.70      0.66      2083\n",
      "\n"
     ]
    },
    {
     "data": {
      "image/png": "[encoded data removed]",
      "text/plain": [
       "<Figure size 800x600 with 2 Axes>"
      ]
     },
     "metadata": {},
     "output_type": "display_data"
    },
    {
     "name": "stdout",
     "output_type": "stream",
     "text": [
      "Evaluating Passive Aggressive...\n",
      "Accuracy: 0.2372\n",
      "Precision: 0.8194\n",
      "Recall: 0.2372\n",
      "F1 Score: 0.0916\n",
      "              precision    recall  f1-score   support\n",
      "\n",
      "  Commercial       0.24      1.00      0.38       493\n",
      "   Technical       1.00      0.00      0.00      1590\n",
      "\n",
      "    accuracy                           0.24      2083\n",
      "   macro avg       0.62      0.50      0.19      2083\n",
      "weighted avg       0.82      0.24      0.09      2083\n",
      "\n"
     ]
    },
    {
     "data": {
      "image/png": "[encoded data removed]",
      "text/plain": [
       "<Figure size 800x600 with 2 Axes>"
      ]
     },
     "metadata": {},
     "output_type": "display_data"
    },
    {
     "name": "stdout",
     "output_type": "stream",
     "text": [
      "Evaluating SVM...\n",
      "Accuracy: 0.6980\n",
      "Precision: 0.6350\n",
      "Recall: 0.6980\n",
      "F1 Score: 0.6589\n",
      "              precision    recall  f1-score   support\n",
      "\n",
      "  Commercial       0.23      0.11      0.15       493\n",
      "   Technical       0.76      0.88      0.82      1590\n",
      "\n",
      "    accuracy                           0.70      2083\n",
      "   macro avg       0.49      0.50      0.48      2083\n",
      "weighted avg       0.63      0.70      0.66      2083\n",
      "\n"
     ]
    },
    {
     "data": {
      "image/png": "[encoded data removed]",
      "text/plain": [
       "<Figure size 800x600 with 2 Axes>"
      ]
     },
     "metadata": {},
     "output_type": "display_data"
    },
    {
     "data": {
      "image/png": "[encoded data removed]",
      "text/plain": [
       "<Figure size 1000x600 with 1 Axes>"
      ]
     },
     "metadata": {},
     "output_type": "display_data"
    },
    {
     "data": {
      "image/png": "[encoded data removed]",
      "text/plain": [
       "<Figure size 800x600 with 1 Axes>"
      ]
     },
     "metadata": {},
     "output_type": "display_data"
    },
    {
     "data": {
      "text/plain": [
       "['tfidf_vectorizer.pkl']"
      ]
     },
     "execution_count": 21,
     "metadata": {},
     "output_type": "execute_result"
    }
   ],
   "source": [
    "# Encode y_test to numeric labels for ROC curve and other uses\n",
    "le = LabelEncoder()\n",
    "y_test_encoded = le.fit_transform(y_test)  # e.g. 'Commercial'->0, 'Technical'->1\n",
    "\n",
    "results = []\n",
    "\n",
    "for name, model in models.items():\n",
    "    print(f\"Evaluating {name}...\")\n",
    "    y_pred = model.predict(X_test)\n",
    "    \n",
    "    # Calculate metrics (using original string labels)\n",
    "    acc = accuracy_score(y_test, y_pred)\n",
    "    prec = precision_score(y_test, y_pred, average='weighted', zero_division=0)\n",
    "    rec = recall_score(y_test, y_pred, average='weighted', zero_division=0)\n",
    "    f1 = f1_score(y_test, y_pred, average='weighted', zero_division=0)\n",
    "    \n",
    "    print(f\"Accuracy: {acc:.4f}\")\n",
    "    print(f\"Precision: {prec:.4f}\")\n",
    "    print(f\"Recall: {rec:.4f}\")\n",
    "    print(f\"F1 Score: {f1:.4f}\")\n",
    "    print(classification_report(y_test, y_pred, zero_division=0))\n",
    "    \n",
    "    # Confusion matrix heatmap\n",
    "    cm = confusion_matrix(y_test, y_pred, labels=le.classes_)\n",
    "    plt.figure(figsize=(8,6))\n",
    "    sns.heatmap(cm, annot=True, fmt='d', cmap='Blues',\n",
    "                xticklabels=le.classes_, yticklabels=le.classes_)\n",
    "    plt.title(f'Confusion Matrix - {name}')\n",
    "    plt.xlabel('Predicted')\n",
    "    plt.ylabel('Actual')\n",
    "    plt.show()\n",
    "    \n",
    "    # Save the model\n",
    "    joblib.dump(model, f\"{name.replace(' ', '_').lower()}_model.pkl\")\n",
    "    \n",
    "    results.append({\n",
    "        'Model': name,\n",
    "        'Accuracy': acc,\n",
    "        'Precision': prec,\n",
    "        'Recall': rec,\n",
    "        'F1 Score': f1\n",
    "    })\n",
    "\n",
    "# Accuracy comparison bar chart\n",
    "results_df = pd.DataFrame(results)\n",
    "plt.figure(figsize=(10,6))\n",
    "sns.barplot(data=results_df, x='Model', y='Accuracy')\n",
    "plt.title('Accuracy Comparison Between Models')\n",
    "plt.ylim(0,1)\n",
    "plt.show()\n",
    "\n",
    "# ROC Curve (only for binary classification)\n",
    "if len(le.classes_) == 2:\n",
    "    plt.figure(figsize=(8,6))\n",
    "    for name, model in models.items():\n",
    "        if hasattr(model, \"predict_proba\"):\n",
    "            y_prob = model.predict_proba(X_test)[:,1]  # probability for positive class (encoded 1)\n",
    "        else:\n",
    "            # Some models like SVM may not have predict_proba by default\n",
    "            y_prob = model.decision_function(X_test)\n",
    "            # Scale to [0,1]\n",
    "            y_prob = (y_prob - y_prob.min()) / (y_prob.max() - y_prob.min())\n",
    "        fpr, tpr, _ = roc_curve(y_test_encoded, y_prob, pos_label=1)\n",
    "        roc_auc = auc(fpr, tpr)\n",
    "        plt.plot(fpr, tpr, label=f'{name} (AUC = {roc_auc:.2f})')\n",
    "    plt.plot([0,1], [0,1], 'k--')\n",
    "    plt.title('ROC Curve')\n",
    "    plt.xlabel('False Positive Rate')\n",
    "    plt.ylabel('True Positive Rate')\n",
    "    plt.legend(loc='lower right')\n",
    "    plt.show()\n",
    "\n",
    "# Save the vectorizer\n",
    "joblib.dump(vectorizer, 'tfidf_vectorizer.pkl')\n"
   ]
  },
  {
   "cell_type": "code",
   "execution_count": 22,
   "id": "2b076116-1004-48ea-a984-703c24ba9e9b",
   "metadata": {},
   "outputs": [
    {
     "name": "stdout",
     "output_type": "stream",
     "text": [
      "COMPLAINT_TYPE\n",
      "Technical     0.763514\n",
      "Commercial    0.236486\n",
      "Name: proportion, dtype: float64\n"
     ]
    }
   ],
   "source": [
    "print(df[target_col].value_counts(normalize=True))\n"
   ]
  },
  {
   "cell_type": "markdown",
   "id": "b5937167-32c4-46c5-9e1b-c40fe4c5cd44",
   "metadata": {},
   "source": [
    "# Recommendations"
   ]
  },
  {
   "cell_type": "markdown",
   "id": "57c54623-cf87-4c54-8cc7-9c4db175bc5e",
   "metadata": {
    "jp-MarkdownHeadingCollapsed": true
   },
   "source": [
    "## 1. Adjust Class Weights in Models"
   ]
  },
  {
   "cell_type": "code",
   "execution_count": 23,
   "id": "4bae7a4e-7f3d-4ede-bdfa-0c664230b3ec",
   "metadata": {},
   "outputs": [
    {
     "data": {
      "text/html": [
       "<style>#sk-container-id-1 {\n",
       "  /* Definition of color scheme common for light and dark mode */\n",
       "  --sklearn-color-text: #000;\n",
       "  --sklearn-color-text-muted: #666;\n",
       "  --sklearn-color-line: gray;\n",
       "  /* Definition of color scheme for unfitted estimators */\n",
       "  --sklearn-color-unfitted-level-0: #fff5e6;\n",
       "  --sklearn-color-unfitted-level-1: #f6e4d2;\n",
       "  --sklearn-color-unfitted-level-2: #ffe0b3;\n",
       "  --sklearn-color-unfitted-level-3: chocolate;\n",
       "  /* Definition of color scheme for fitted estimators */\n",
       "  --sklearn-color-fitted-level-0: #f0f8ff;\n",
       "  --sklearn-color-fitted-level-1: #d4ebff;\n",
       "  --sklearn-color-fitted-level-2: #b3dbfd;\n",
       "  --sklearn-color-fitted-level-3: cornflowerblue;\n",
       "\n",
       "  /* Specific color for light theme */\n",
       "  --sklearn-color-text-on-default-background: var(--sg-text-color, var(--theme-code-foreground, var(--jp-content-font-color1, black)));\n",
       "  --sklearn-color-background: var(--sg-background-color, var(--theme-background, var(--jp-layout-color0, white)));\n",
       "  --sklearn-color-border-box: var(--sg-text-color, var(--theme-code-foreground, var(--jp-content-font-color1, black)));\n",
       "  --sklearn-color-icon: #696969;\n",
       "\n",
       "  @media (prefers-color-scheme: dark) {\n",
       "    /* Redefinition of color scheme for dark theme */\n",
       "    --sklearn-color-text-on-default-background: var(--sg-text-color, var(--theme-code-foreground, var(--jp-content-font-color1, white)));\n",
       "    --sklearn-color-background: var(--sg-background-color, var(--theme-background, var(--jp-layout-color0, #111)));\n",
       "    --sklearn-color-border-box: var(--sg-text-color, var(--theme-code-foreground, var(--jp-content-font-color1, white)));\n",
       "    --sklearn-color-icon: #878787;\n",
       "  }\n",
       "}\n",
       "\n",
       "#sk-container-id-1 {\n",
       "  color: var(--sklearn-color-text);\n",
       "}\n",
       "\n",
       "#sk-container-id-1 pre {\n",
       "  padding: 0;\n",
       "}\n",
       "\n",
       "#sk-container-id-1 input.sk-hidden--visually {\n",
       "  border: 0;\n",
       "  clip: rect(1px 1px 1px 1px);\n",
       "  clip: rect(1px, 1px, 1px, 1px);\n",
       "  height: 1px;\n",
       "  margin: -1px;\n",
       "  overflow: hidden;\n",
       "  padding: 0;\n",
       "  position: absolute;\n",
       "  width: 1px;\n",
       "}\n",
       "\n",
       "#sk-container-id-1 div.sk-dashed-wrapped {\n",
       "  border: 1px dashed var(--sklearn-color-line);\n",
       "  margin: 0 0.4em 0.5em 0.4em;\n",
       "  box-sizing: border-box;\n",
       "  padding-bottom: 0.4em;\n",
       "  background-color: var(--sklearn-color-background);\n",
       "}\n",
       "\n",
       "#sk-container-id-1 div.sk-container {\n",
       "  /* jupyter's `normalize.less` sets `[hidden] { display: none; }`\n",
       "     but bootstrap.min.css set `[hidden] { display: none !important; }`\n",
       "     so we also need the `!important` here to be able to override the\n",
       "     default hidden behavior on the sphinx rendered scikit-learn.org.\n",
       "     See: https://github.com/scikit-learn/scikit-learn/issues/21755 */\n",
       "  display: inline-block !important;\n",
       "  position: relative;\n",
       "}\n",
       "\n",
       "#sk-container-id-1 div.sk-text-repr-fallback {\n",
       "  display: none;\n",
       "}\n",
       "\n",
       "div.sk-parallel-item,\n",
       "div.sk-serial,\n",
       "div.sk-item {\n",
       "  /* draw centered vertical line to link estimators */\n",
       "  background-image: linear-gradient(var(--sklearn-color-text-on-default-background), var(--sklearn-color-text-on-default-background));\n",
       "  background-size: 2px 100%;\n",
       "  background-repeat: no-repeat;\n",
       "  background-position: center center;\n",
       "}\n",
       "\n",
       "/* Parallel-specific style estimator block */\n",
       "\n",
       "#sk-container-id-1 div.sk-parallel-item::after {\n",
       "  content: \"\";\n",
       "  width: 100%;\n",
       "  border-bottom: 2px solid var(--sklearn-color-text-on-default-background);\n",
       "  flex-grow: 1;\n",
       "}\n",
       "\n",
       "#sk-container-id-1 div.sk-parallel {\n",
       "  display: flex;\n",
       "  align-items: stretch;\n",
       "  justify-content: center;\n",
       "  background-color: var(--sklearn-color-background);\n",
       "  position: relative;\n",
       "}\n",
       "\n",
       "#sk-container-id-1 div.sk-parallel-item {\n",
       "  display: flex;\n",
       "  flex-direction: column;\n",
       "}\n",
       "\n",
       "#sk-container-id-1 div.sk-parallel-item:first-child::after {\n",
       "  align-self: flex-end;\n",
       "  width: 50%;\n",
       "}\n",
       "\n",
       "#sk-container-id-1 div.sk-parallel-item:last-child::after {\n",
       "  align-self: flex-start;\n",
       "  width: 50%;\n",
       "}\n",
       "\n",
       "#sk-container-id-1 div.sk-parallel-item:only-child::after {\n",
       "  width: 0;\n",
       "}\n",
       "\n",
       "/* Serial-specific style estimator block */\n",
       "\n",
       "#sk-container-id-1 div.sk-serial {\n",
       "  display: flex;\n",
       "  flex-direction: column;\n",
       "  align-items: center;\n",
       "  background-color: var(--sklearn-color-background);\n",
       "  padding-right: 1em;\n",
       "  padding-left: 1em;\n",
       "}\n",
       "\n",
       "\n",
       "/* Toggleable style: style used for estimator/Pipeline/ColumnTransformer box that is\n",
       "clickable and can be expanded/collapsed.\n",
       "- Pipeline and ColumnTransformer use this feature and define the default style\n",
       "- Estimators will overwrite some part of the style using the `sk-estimator` class\n",
       "*/\n",
       "\n",
       "/* Pipeline and ColumnTransformer style (default) */\n",
       "\n",
       "#sk-container-id-1 div.sk-toggleable {\n",
       "  /* Default theme specific background. It is overwritten whether we have a\n",
       "  specific estimator or a Pipeline/ColumnTransformer */\n",
       "  background-color: var(--sklearn-color-background);\n",
       "}\n",
       "\n",
       "/* Toggleable label */\n",
       "#sk-container-id-1 label.sk-toggleable__label {\n",
       "  cursor: pointer;\n",
       "  display: flex;\n",
       "  width: 100%;\n",
       "  margin-bottom: 0;\n",
       "  padding: 0.5em;\n",
       "  box-sizing: border-box;\n",
       "  text-align: center;\n",
       "  align-items: start;\n",
       "  justify-content: space-between;\n",
       "  gap: 0.5em;\n",
       "}\n",
       "\n",
       "#sk-container-id-1 label.sk-toggleable__label .caption {\n",
       "  font-size: 0.6rem;\n",
       "  font-weight: lighter;\n",
       "  color: var(--sklearn-color-text-muted);\n",
       "}\n",
       "\n",
       "#sk-container-id-1 label.sk-toggleable__label-arrow:before {\n",
       "  /* Arrow on the left of the label */\n",
       "  content: \"▸\";\n",
       "  float: left;\n",
       "  margin-right: 0.25em;\n",
       "  color: var(--sklearn-color-icon);\n",
       "}\n",
       "\n",
       "#sk-container-id-1 label.sk-toggleable__label-arrow:hover:before {\n",
       "  color: var(--sklearn-color-text);\n",
       "}\n",
       "\n",
       "/* Toggleable content - dropdown */\n",
       "\n",
       "#sk-container-id-1 div.sk-toggleable__content {\n",
       "  max-height: 0;\n",
       "  max-width: 0;\n",
       "  overflow: hidden;\n",
       "  text-align: left;\n",
       "  /* unfitted */\n",
       "  background-color: var(--sklearn-color-unfitted-level-0);\n",
       "}\n",
       "\n",
       "#sk-container-id-1 div.sk-toggleable__content.fitted {\n",
       "  /* fitted */\n",
       "  background-color: var(--sklearn-color-fitted-level-0);\n",
       "}\n",
       "\n",
       "#sk-container-id-1 div.sk-toggleable__content pre {\n",
       "  margin: 0.2em;\n",
       "  border-radius: 0.25em;\n",
       "  color: var(--sklearn-color-text);\n",
       "  /* unfitted */\n",
       "  background-color: var(--sklearn-color-unfitted-level-0);\n",
       "}\n",
       "\n",
       "#sk-container-id-1 div.sk-toggleable__content.fitted pre {\n",
       "  /* unfitted */\n",
       "  background-color: var(--sklearn-color-fitted-level-0);\n",
       "}\n",
       "\n",
       "#sk-container-id-1 input.sk-toggleable__control:checked~div.sk-toggleable__content {\n",
       "  /* Expand drop-down */\n",
       "  max-height: 200px;\n",
       "  max-width: 100%;\n",
       "  overflow: auto;\n",
       "}\n",
       "\n",
       "#sk-container-id-1 input.sk-toggleable__control:checked~label.sk-toggleable__label-arrow:before {\n",
       "  content: \"▾\";\n",
       "}\n",
       "\n",
       "/* Pipeline/ColumnTransformer-specific style */\n",
       "\n",
       "#sk-container-id-1 div.sk-label input.sk-toggleable__control:checked~label.sk-toggleable__label {\n",
       "  color: var(--sklearn-color-text);\n",
       "  background-color: var(--sklearn-color-unfitted-level-2);\n",
       "}\n",
       "\n",
       "#sk-container-id-1 div.sk-label.fitted input.sk-toggleable__control:checked~label.sk-toggleable__label {\n",
       "  background-color: var(--sklearn-color-fitted-level-2);\n",
       "}\n",
       "\n",
       "/* Estimator-specific style */\n",
       "\n",
       "/* Colorize estimator box */\n",
       "#sk-container-id-1 div.sk-estimator input.sk-toggleable__control:checked~label.sk-toggleable__label {\n",
       "  /* unfitted */\n",
       "  background-color: var(--sklearn-color-unfitted-level-2);\n",
       "}\n",
       "\n",
       "#sk-container-id-1 div.sk-estimator.fitted input.sk-toggleable__control:checked~label.sk-toggleable__label {\n",
       "  /* fitted */\n",
       "  background-color: var(--sklearn-color-fitted-level-2);\n",
       "}\n",
       "\n",
       "#sk-container-id-1 div.sk-label label.sk-toggleable__label,\n",
       "#sk-container-id-1 div.sk-label label {\n",
       "  /* The background is the default theme color */\n",
       "  color: var(--sklearn-color-text-on-default-background);\n",
       "}\n",
       "\n",
       "/* On hover, darken the color of the background */\n",
       "#sk-container-id-1 div.sk-label:hover label.sk-toggleable__label {\n",
       "  color: var(--sklearn-color-text);\n",
       "  background-color: var(--sklearn-color-unfitted-level-2);\n",
       "}\n",
       "\n",
       "/* Label box, darken color on hover, fitted */\n",
       "#sk-container-id-1 div.sk-label.fitted:hover label.sk-toggleable__label.fitted {\n",
       "  color: var(--sklearn-color-text);\n",
       "  background-color: var(--sklearn-color-fitted-level-2);\n",
       "}\n",
       "\n",
       "/* Estimator label */\n",
       "\n",
       "#sk-container-id-1 div.sk-label label {\n",
       "  font-family: monospace;\n",
       "  font-weight: bold;\n",
       "  display: inline-block;\n",
       "  line-height: 1.2em;\n",
       "}\n",
       "\n",
       "#sk-container-id-1 div.sk-label-container {\n",
       "  text-align: center;\n",
       "}\n",
       "\n",
       "/* Estimator-specific */\n",
       "#sk-container-id-1 div.sk-estimator {\n",
       "  font-family: monospace;\n",
       "  border: 1px dotted var(--sklearn-color-border-box);\n",
       "  border-radius: 0.25em;\n",
       "  box-sizing: border-box;\n",
       "  margin-bottom: 0.5em;\n",
       "  /* unfitted */\n",
       "  background-color: var(--sklearn-color-unfitted-level-0);\n",
       "}\n",
       "\n",
       "#sk-container-id-1 div.sk-estimator.fitted {\n",
       "  /* fitted */\n",
       "  background-color: var(--sklearn-color-fitted-level-0);\n",
       "}\n",
       "\n",
       "/* on hover */\n",
       "#sk-container-id-1 div.sk-estimator:hover {\n",
       "  /* unfitted */\n",
       "  background-color: var(--sklearn-color-unfitted-level-2);\n",
       "}\n",
       "\n",
       "#sk-container-id-1 div.sk-estimator.fitted:hover {\n",
       "  /* fitted */\n",
       "  background-color: var(--sklearn-color-fitted-level-2);\n",
       "}\n",
       "\n",
       "/* Specification for estimator info (e.g. \"i\" and \"?\") */\n",
       "\n",
       "/* Common style for \"i\" and \"?\" */\n",
       "\n",
       ".sk-estimator-doc-link,\n",
       "a:link.sk-estimator-doc-link,\n",
       "a:visited.sk-estimator-doc-link {\n",
       "  float: right;\n",
       "  font-size: smaller;\n",
       "  line-height: 1em;\n",
       "  font-family: monospace;\n",
       "  background-color: var(--sklearn-color-background);\n",
       "  border-radius: 1em;\n",
       "  height: 1em;\n",
       "  width: 1em;\n",
       "  text-decoration: none !important;\n",
       "  margin-left: 0.5em;\n",
       "  text-align: center;\n",
       "  /* unfitted */\n",
       "  border: var(--sklearn-color-unfitted-level-1) 1pt solid;\n",
       "  color: var(--sklearn-color-unfitted-level-1);\n",
       "}\n",
       "\n",
       ".sk-estimator-doc-link.fitted,\n",
       "a:link.sk-estimator-doc-link.fitted,\n",
       "a:visited.sk-estimator-doc-link.fitted {\n",
       "  /* fitted */\n",
       "  border: var(--sklearn-color-fitted-level-1) 1pt solid;\n",
       "  color: var(--sklearn-color-fitted-level-1);\n",
       "}\n",
       "\n",
       "/* On hover */\n",
       "div.sk-estimator:hover .sk-estimator-doc-link:hover,\n",
       ".sk-estimator-doc-link:hover,\n",
       "div.sk-label-container:hover .sk-estimator-doc-link:hover,\n",
       ".sk-estimator-doc-link:hover {\n",
       "  /* unfitted */\n",
       "  background-color: var(--sklearn-color-unfitted-level-3);\n",
       "  color: var(--sklearn-color-background);\n",
       "  text-decoration: none;\n",
       "}\n",
       "\n",
       "div.sk-estimator.fitted:hover .sk-estimator-doc-link.fitted:hover,\n",
       ".sk-estimator-doc-link.fitted:hover,\n",
       "div.sk-label-container:hover .sk-estimator-doc-link.fitted:hover,\n",
       ".sk-estimator-doc-link.fitted:hover {\n",
       "  /* fitted */\n",
       "  background-color: var(--sklearn-color-fitted-level-3);\n",
       "  color: var(--sklearn-color-background);\n",
       "  text-decoration: none;\n",
       "}\n",
       "\n",
       "/* Span, style for the box shown on hovering the info icon */\n",
       ".sk-estimator-doc-link span {\n",
       "  display: none;\n",
       "  z-index: 9999;\n",
       "  position: relative;\n",
       "  font-weight: normal;\n",
       "  right: .2ex;\n",
       "  padding: .5ex;\n",
       "  margin: .5ex;\n",
       "  width: min-content;\n",
       "  min-width: 20ex;\n",
       "  max-width: 50ex;\n",
       "  color: var(--sklearn-color-text);\n",
       "  box-shadow: 2pt 2pt 4pt #999;\n",
       "  /* unfitted */\n",
       "  background: var(--sklearn-color-unfitted-level-0);\n",
       "  border: .5pt solid var(--sklearn-color-unfitted-level-3);\n",
       "}\n",
       "\n",
       ".sk-estimator-doc-link.fitted span {\n",
       "  /* fitted */\n",
       "  background: var(--sklearn-color-fitted-level-0);\n",
       "  border: var(--sklearn-color-fitted-level-3);\n",
       "}\n",
       "\n",
       ".sk-estimator-doc-link:hover span {\n",
       "  display: block;\n",
       "}\n",
       "\n",
       "/* \"?\"-specific style due to the `<a>` HTML tag */\n",
       "\n",
       "#sk-container-id-1 a.estimator_doc_link {\n",
       "  float: right;\n",
       "  font-size: 1rem;\n",
       "  line-height: 1em;\n",
       "  font-family: monospace;\n",
       "  background-color: var(--sklearn-color-background);\n",
       "  border-radius: 1rem;\n",
       "  height: 1rem;\n",
       "  width: 1rem;\n",
       "  text-decoration: none;\n",
       "  /* unfitted */\n",
       "  color: var(--sklearn-color-unfitted-level-1);\n",
       "  border: var(--sklearn-color-unfitted-level-1) 1pt solid;\n",
       "}\n",
       "\n",
       "#sk-container-id-1 a.estimator_doc_link.fitted {\n",
       "  /* fitted */\n",
       "  border: var(--sklearn-color-fitted-level-1) 1pt solid;\n",
       "  color: var(--sklearn-color-fitted-level-1);\n",
       "}\n",
       "\n",
       "/* On hover */\n",
       "#sk-container-id-1 a.estimator_doc_link:hover {\n",
       "  /* unfitted */\n",
       "  background-color: var(--sklearn-color-unfitted-level-3);\n",
       "  color: var(--sklearn-color-background);\n",
       "  text-decoration: none;\n",
       "}\n",
       "\n",
       "#sk-container-id-1 a.estimator_doc_link.fitted:hover {\n",
       "  /* fitted */\n",
       "  background-color: var(--sklearn-color-fitted-level-3);\n",
       "}\n",
       "</style><div id=\"sk-container-id-1\" class=\"sk-top-container\"><div class=\"sk-text-repr-fallback\"><pre>SVC(class_weight=&#x27;balanced&#x27;, random_state=42)</pre><b>In a Jupyter environment, please rerun this cell to show the HTML representation or trust the notebook. <br />On GitHub, the HTML representation is unable to render, please try loading this page with nbviewer.org.</b></div><div class=\"sk-container\" hidden><div class=\"sk-item\"><div class=\"sk-estimator fitted sk-toggleable\"><input class=\"sk-toggleable__control sk-hidden--visually\" id=\"sk-estimator-id-1\" type=\"checkbox\" checked><label for=\"sk-estimator-id-1\" class=\"sk-toggleable__label fitted sk-toggleable__label-arrow\"><div><div>SVC</div></div><div><a class=\"sk-estimator-doc-link fitted\" rel=\"noreferrer\" target=\"_blank\" href=\"https://scikit-learn.org/1.6/modules/generated/sklearn.svm.SVC.html\">?<span>Documentation for SVC</span></a><span class=\"sk-estimator-doc-link fitted\">i<span>Fitted</span></span></div></label><div class=\"sk-toggleable__content fitted\"><pre>SVC(class_weight=&#x27;balanced&#x27;, random_state=42)</pre></div> </div></div></div></div>"
      ],
      "text/plain": [
       "SVC(class_weight='balanced', random_state=42)"
      ]
     },
     "execution_count": 23,
     "metadata": {},
     "output_type": "execute_result"
    }
   ],
   "source": [
    "# Logistic Regression with class weight balancing\n",
    "log_reg = LogisticRegression(class_weight='balanced', random_state=42)\n",
    "log_reg.fit(X_train, y_train)\n",
    "\n",
    "# SVM with class weight balancing\n",
    "svm_model = SVC(class_weight='balanced', random_state=42)\n",
    "svm_model.fit(X_train, y_train)"
   ]
  },
  {
   "cell_type": "markdown",
   "id": "25e70687-9fc5-47ee-b5a9-3ba19a054879",
   "metadata": {
    "jp-MarkdownHeadingCollapsed": true
   },
   "source": [
    "## 2. Test XGBoost"
   ]
  },
  {
   "cell_type": "code",
   "execution_count": 27,
   "id": "3ae51fc4-3e5a-4224-9f03-079c5954d5ee",
   "metadata": {},
   "outputs": [
    {
     "name": "stdout",
     "output_type": "stream",
     "text": [
      "XGBoost Report:\n",
      "              precision    recall  f1-score   support\n",
      "\n",
      "           0       0.23      0.11      0.15       493\n",
      "           1       0.76      0.88      0.82      1590\n",
      "\n",
      "    accuracy                           0.70      2083\n",
      "   macro avg       0.49      0.50      0.48      2083\n",
      "weighted avg       0.63      0.70      0.66      2083\n",
      "\n"
     ]
    }
   ],
   "source": [
    "from sklearn.preprocessing import LabelEncoder\n",
    "\n",
    "# Encode target labels\n",
    "le = LabelEncoder()\n",
    "y_train_enc = le.fit_transform(y_train)\n",
    "y_test_enc = le.transform(y_test)\n",
    "\n",
    "# Calculate scale_pos_weight for imbalance handling\n",
    "pos_weight = (len(y_train_enc) - sum(y_train_enc)) / sum(y_train_enc)\n",
    "\n",
    "# XGBoost with class imbalance handling\n",
    "xgb_model = xgb.XGBClassifier(eval_metric='logloss', scale_pos_weight=pos_weight)\n",
    "xgb_model.fit(X_train, y_train_enc)\n",
    "\n",
    "print(\"XGBoost Report:\")\n",
    "print(classification_report(y_test_enc, xgb_model.predict(X_test)))\n"
   ]
  },
  {
   "cell_type": "markdown",
   "id": "e593ea02-3880-4401-ae86-b6c557be7267",
   "metadata": {
    "jp-MarkdownHeadingCollapsed": true
   },
   "source": [
    "## 3. Advanced Text Preprocessing"
   ]
  },
  {
   "cell_type": "code",
   "execution_count": 30,
   "id": "417f867e-3155-46bd-8b8b-d9090b2b05ae",
   "metadata": {},
   "outputs": [
    {
     "name": "stderr",
     "output_type": "stream",
     "text": [
      "[nltk_data] Downloading package stopwords to\n",
      "[nltk_data]     C:\\Users\\yhamdan\\AppData\\Roaming\\nltk_data...\n",
      "[nltk_data]   Package stopwords is already up-to-date!\n",
      "[nltk_data] Downloading package wordnet to\n",
      "[nltk_data]     C:\\Users\\yhamdan\\AppData\\Roaming\\nltk_data...\n",
      "[nltk_data]   Package wordnet is already up-to-date!\n"
     ]
    },
    {
     "name": "stdout",
     "output_type": "stream",
     "text": [
      "Using text column: CASE_ID\n",
      "  CLEAN_COMPLAINT\n",
      "0          casldq\n",
      "1          caswbq\n",
      "2          caslfx\n",
      "3          caskyf\n",
      "4          casysf\n"
     ]
    }
   ],
   "source": [
    "nltk.download('stopwords')\n",
    "nltk.download('wordnet')\n",
    "# Clean column names (remove leading/trailing spaces)\n",
    "df.columns = df.columns.str.strip()\n",
    "\n",
    "# Detect the complaint text column automatically\n",
    "possible_columns = [col for col in df.columns if 'complain' in col.lower() or 'case' in col.lower()]\n",
    "if not possible_columns:\n",
    "    raise ValueError(\"No complaint text column found. Please check your CSV.\")\n",
    "text_column = possible_columns[0]\n",
    "print(f\"Using text column: {text_column}\")\n",
    "\n",
    "# Initialize preprocessing tools\n",
    "stop_words = set(stopwords.words('english'))\n",
    "lemmatizer = WordNetLemmatizer()\n",
    "\n",
    "# Define advanced cleaning function\n",
    "def clean_text(text):\n",
    "    text = str(text).lower()                        # Lowercase\n",
    "    text = re.sub(r'[^a-z\\s]', '', text)            # Remove punctuation & numbers\n",
    "    words = text.split()                            # Tokenize\n",
    "    words = [w for w in words if w not in stop_words] # Remove stopwords\n",
    "    words = [lemmatizer.lemmatize(w) for w in words] # Lemmatize\n",
    "    return ' '.join(words)\n",
    "\n",
    "# Apply preprocessing\n",
    "df['CLEAN_COMPLAINT'] = df[text_column].apply(clean_text)\n",
    "\n",
    "# Preview cleaned data\n",
    "print(df[['CLEAN_COMPLAINT']].head())\n"
   ]
  },
  {
   "cell_type": "code",
   "execution_count": 32,
   "id": "5b71d936-8ade-43fc-9a9b-f89a0a5f8ca9",
   "metadata": {},
   "outputs": [
    {
     "name": "stdout",
     "output_type": "stream",
     "text": [
      "Unique words before: 10379\n",
      "Unique words after: 6247\n"
     ]
    }
   ],
   "source": [
    "before_vocab = Counter(\" \".join(df[text_column].astype(str)).split())\n",
    "after_vocab = Counter(\" \".join(df['CLEAN_COMPLAINT']).split())\n",
    "\n",
    "print(f\"Unique words before: {len(before_vocab)}\")\n",
    "print(f\"Unique words after: {len(after_vocab)}\")"
   ]
  },
  {
   "cell_type": "markdown",
   "id": "44f1b4e8-fc58-412a-a9fc-3aee87c91642",
   "metadata": {
    "jp-MarkdownHeadingCollapsed": true
   },
   "source": [
    "## 4. Use Deep Learning Models (Example)"
   ]
  },
  {
   "cell_type": "code",
   "execution_count": 35,
   "id": "69e59f72-910f-42e7-a98b-a1a14f2ec040",
   "metadata": {},
   "outputs": [],
   "source": [
    "label_col = 'COMPLAINT_TYPE'  \n",
    "\n",
    "le = LabelEncoder()\n",
    "\n",
    "df['COMPLAINT_TYPE_ENCODED'] = le.fit_transform(df[label_col])\n",
    "\n",
    "X_train, X_test, y_train, y_test = train_test_split(\n",
    "    X_pad,\n",
    "    df['COMPLAINT_TYPE_ENCODED'],\n",
    "    test_size=0.2,\n",
    "    random_state=42\n",
    ")\n"
   ]
  },
  {
   "cell_type": "code",
   "execution_count": 36,
   "id": "baf57476-1551-43b1-8b3d-4dcc685c3686",
   "metadata": {},
   "outputs": [
    {
     "name": "stdout",
     "output_type": "stream",
     "text": [
      "Epoch 1/5\n"
     ]
    },
    {
     "name": "stderr",
     "output_type": "stream",
     "text": [
      "C:\\Users\\yhamdan\\AppData\\Local\\anaconda3\\Lib\\site-packages\\keras\\src\\layers\\core\\embedding.py:97: UserWarning: Argument `input_length` is deprecated. Just remove it.\n",
      "  warnings.warn(\n"
     ]
    },
    {
     "name": "stdout",
     "output_type": "stream",
     "text": [
      "\u001b[1m261/261\u001b[0m \u001b[32m━━━━━━━━━━━━━━━━━━━━\u001b[0m\u001b[37m\u001b[0m \u001b[1m15s\u001b[0m 47ms/step - accuracy: 0.7642 - loss: 0.5494 - val_accuracy: 0.7590 - val_loss: 0.5536\n",
      "Epoch 2/5\n",
      "\u001b[1m261/261\u001b[0m \u001b[32m━━━━━━━━━━━━━━━━━━━━\u001b[0m\u001b[37m\u001b[0m \u001b[1m12s\u001b[0m 46ms/step - accuracy: 0.7634 - loss: 0.4821 - val_accuracy: 0.6956 - val_loss: 0.6256\n",
      "Epoch 3/5\n",
      "\u001b[1m261/261\u001b[0m \u001b[32m━━━━━━━━━━━━━━━━━━━━\u001b[0m\u001b[37m\u001b[0m \u001b[1m13s\u001b[0m 49ms/step - accuracy: 0.8243 - loss: 0.3492 - val_accuracy: 0.6894 - val_loss: 0.7382\n",
      "Epoch 4/5\n",
      "\u001b[1m261/261\u001b[0m \u001b[32m━━━━━━━━━━━━━━━━━━━━\u001b[0m\u001b[37m\u001b[0m \u001b[1m13s\u001b[0m 50ms/step - accuracy: 0.8261 - loss: 0.3039 - val_accuracy: 0.5266 - val_loss: 0.8748\n",
      "Epoch 5/5\n",
      "\u001b[1m261/261\u001b[0m \u001b[32m━━━━━━━━━━━━━━━━━━━━\u001b[0m\u001b[37m\u001b[0m \u001b[1m13s\u001b[0m 49ms/step - accuracy: 0.8272 - loss: 0.2880 - val_accuracy: 0.6639 - val_loss: 0.9261\n"
     ]
    },
    {
     "data": {
      "text/plain": [
       "<keras.src.callbacks.history.History at 0x1e8d3ed7e00>"
      ]
     },
     "execution_count": 36,
     "metadata": {},
     "output_type": "execute_result"
    }
   ],
   "source": [
    "# Tokenization\n",
    "tokenizer = Tokenizer(num_words=5000)\n",
    "tokenizer.fit_on_texts(df['CLEAN_COMPLAINT'])\n",
    "X_seq = tokenizer.texts_to_sequences(df['CLEAN_COMPLAINT'])\n",
    "X_pad = pad_sequences(X_seq, maxlen=100)\n",
    "\n",
    "# Train/Test Split\n",
    "from sklearn.model_selection import train_test_split\n",
    "X_train, X_test, y_train, y_test = train_test_split(X_pad, df['COMPLAINT_TYPE_ENCODED'], test_size=0.2, random_state=42)\n",
    "\n",
    "# LSTM Model\n",
    "model = Sequential()\n",
    "model.add(Embedding(input_dim=5000, output_dim=128, input_length=100))\n",
    "model.add(LSTM(64))\n",
    "model.add(Dense(1, activation='sigmoid'))\n",
    "\n",
    "model.compile(loss='binary_crossentropy', optimizer='adam', metrics=['accuracy'])\n",
    "model.fit(X_train, y_train, epochs=5, batch_size=32, validation_data=(X_test, y_test))\n"
   ]
  }
 ],
 "metadata": {
  "kernelspec": {
   "display_name": "Python 3 (ipykernel)",
   "language": "python",
   "name": "python3"
  },
  "language_info": {
   "codemirror_mode": {
    "name": "ipython",
    "version": 3
   },
   "file_extension": ".py",
   "mimetype": "text/x-python",
   "name": "python",
   "nbconvert_exporter": "python",
   "pygments_lexer": "ipython3",
   "version": "3.13.5"
  }
 },
 "nbformat": 4,
 "nbformat_minor": 5
}
